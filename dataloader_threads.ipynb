{
 "cells": [
  {
   "cell_type": "code",
   "execution_count": 8,
   "id": "9493a46f-12c3-4582-9723-7352e6aaeb95",
   "metadata": {},
   "outputs": [],
   "source": [
    "import os\n",
    "import json\n",
    "from urllib.parse import urlparse\n",
    "import pandas as pd\n",
    "from glob import glob\n",
    "import matplotlib.pyplot as plt"
   ]
  },
  {
   "cell_type": "code",
   "execution_count": 1,
   "id": "4c2d95da-e123-45ef-b419-618550bd26a6",
   "metadata": {},
   "outputs": [],
   "source": [
    "### params ###########\n",
    "# ATTENTION: In this environment relative paths don't work with glob. \n",
    "path = '/YOUR/PATH/*'\n",
    "### Enter path to file and filename\n",
    "file = 'PATH_TO_FILE/FILE'"
   ]
  },
  {
   "cell_type": "code",
   "execution_count": 10,
   "id": "0707facc",
   "metadata": {},
   "outputs": [],
   "source": [
    "# Load data from file\n",
    "\n",
    "with open(file) as read_file:\n",
    "    data = json.load(read_file)\n",
    "\n",
    "\n",
    "# Normalize data\n",
    "\n",
    "json_data = json.dumps(data)\n",
    "df_all = pd.json_normalize(json.loads(json_data))\n",
    "\n",
    "# Create data frame of the posts (column: 'threads')\n",
    "\n",
    "df = pd.json_normalize(data,record_path=['threads'])\n"
   ]
  },
  {
   "cell_type": "code",
   "execution_count": null,
   "id": "4aacd80d",
   "metadata": {},
   "outputs": [],
   "source": [
    "df"
   ]
  }
 ],
 "metadata": {
  "kernelspec": {
   "display_name": "Python 3 (ipykernel)",
   "language": "python",
   "name": "python3"
  },
  "language_info": {
   "codemirror_mode": {
    "name": "ipython",
    "version": 3
   },
   "file_extension": ".py",
   "mimetype": "text/x-python",
   "name": "python",
   "nbconvert_exporter": "python",
   "pygments_lexer": "ipython3",
   "version": "3.12.3"
  }
 },
 "nbformat": 4,
 "nbformat_minor": 5
}
